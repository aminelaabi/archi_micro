{
 "cells": [
  {
   "attachments": {},
   "cell_type": "markdown",
   "metadata": {},
   "source": [
    "# Présentation du projet:  \n",
    "\n",
    "Ce projet représente le partie backoffice d'une application web qui a pour but de floutter les visages des personnes dans une image, la communication avec ce back peut être faite par plusieurs moyens:  \n",
    "\n",
    "* Charger l'image directement sous format binaire\n",
    "* Charger l'image depuis un lien qui offre la possbilité de télécharger l'image (idéalement un bucket S3, dans mon cas le site gratuit [anonfile](https://anonfiles.com/))  \n",
    "* Directement depuis une caméra, ou un flux vidéo, via des websockets  \n",
    "\n",
    "Tous cela avec un système d'authentification en [JWT](https://jwt.io/), et un système de gestion des utilisateurs, pour accéder au endpoint de chaque service.  \n",
    "\n",
    "Le projet est écrit entièrement en [Python](https://www.python.org/) avec le framework [FastAPI](https://fastapi.tiangolo.com/), et le framework [SocketIO](https://socket.io/) pour les websockets.  \n",
    "Le choix du langage Python est dû à sa facilité de manipulation des images, et le choix de FastAPI est dû à sa rapidité et sa facilité de mise en place, et le choix de SocketIO est dû à sa facilité de mise en place et sa compatibilité avec FastAPI, aussi ces technologies sont des technologies que j'utilise au quotidien dans mon travail, (à l'exception des websockets), et donc il est plus pertinent de les utiliser pour ce projet, vue que je compte appliquer la clean architecture dans mes futurs projets.  "
   ]
  },
  {
   "attachments": {},
   "cell_type": "markdown",
   "metadata": {},
   "source": [
    "# Architecture:  \n",
    "\n",
    "Dans mon projet j'ai essayé au maximum d'appliquer la clean architechture qu'on peut schématiser comme suit:  \n",
    "\n",
    "![clean_architecture](/home/amine_laabi/Desktop/APP5/archi_micro/projet/anon/ressources/back_archi.pdf)  \n"
   ]
  },
  {
   "attachments": {},
   "cell_type": "markdown",
   "metadata": {},
   "source": [
    "# Arboration du projet:  \n",
    "\n",
    "J'ai choisi une arborescence différente de celle proposée dans le cours, pour la simple raison que je me retrouve dans cette organisation, tout en gardant les mêmes principes de la clean architecture.  \n",
    "\n",
    "\n",
    "La division des dossiers est faite de la manière suivante:  \n",
    "* **db_data**: contient les données de la base de données, qui sont persistantes, et qui sont montées dans le container de la base de données.  \n",
    "* **public**: contient les fichiers statiques, qui sont montés dans le container de l'application web.  \n",
    "* **src**: contient le code source de l'application, et qui est divisé en plusieurs dossiers:  \n",
    "    * **config**: contient les fichiers de configuration de l'application, et les dépendances externes.  \n",
    "    * **exceptions**: contient les exceptions personnalisées de l'application.  \n",
    "    * **external_dependencies**: contient les dépendances externes de l'application, qui sont divisées en plusieurs dossiers:  \n",
    "        * **blurmodel**: contient le modèle de flouttage des visages.  \n",
    "        * **database**: contient les fichiers de connexion à la base de données.  \n",
    "        * **imageblur**: contient les fichiers de connexion au service de flouttage des images.  \n",
    "        * **securite**: contient les fichiers de connexion au service de sécurité.  \n",
    "        * **stockage**: contient les fichiers de connexion au service de stockage.  \n",
    "    * **imageblur**: contient les fichiers du service de flouttage des images, qui sont divisés en plusieurs dossiers:  \n",
    "        * **controller**: contient les fichiers de contrôle des entrées et sorties du service.  \n",
    "        * **mapping**: contient les fichiers de mapping des données.  \n",
    "        * **repository**: contient les fichiers de connexion à la base de données.  \n",
    "        * **types**: contient les fichiers de définition des types de données.  \n",
    "        * **use_case**: contient les fichiers de définition des cas d'utilisation.  \n",
    "    * **injectors**: contient les fichiers d'injection de dépendances.  \n",
    "    * **routers**: contient les fichiers de routage de l'application.  \n",
    "    * **soluce_contournement.py**: contient la solution de contournement pour le problème de la connexion à la base de données.  \n",
    "    * **user**: contient les fichiers du service de gestion des utilisateurs, qui sont divisés en plusieurs dossiers:  \n",
    "        * **controller**: contient les fichiers de contrôle des entrées et sorties du service.  \n",
    "        * **mapping**: contient les fichiers de mapping des données.  \n",
    "        * **repository**: contient les fichiers de connexion à la base de données.  \n",
    "        * **types**: contient les fichiers de définition des types de données.  \n",
    "        * **use_case**: contient les fichiers de définition des cas d'utilisation.  "
   ]
  },
  {
   "attachments": {},
   "cell_type": "markdown",
   "metadata": {},
   "source": [
    "# Déroulement du projet:  \n",
    "\n",
    "J'ai compris le principe de la clean architecture, et j'ai essayé de l'appliquer au mieux dans mon projet, en effet en appliquant la clean architecture, je me suis très vite rendu compte de la tâche de chaque composant:  \n",
    "* **Controller**: contrôle les entrées et sorties du service, et fait appel aux cas d'utilisation, et générer les réponses, et renvoie les exceptions que les utilisateurs peuvent rencontrer.  \n",
    "* **Use case**: contient la logique métier du service, et fait appel aux repository pour récupérer les données.  \n",
    "* **Repository**: contient les requêtes à la base de données, et fait appel aux types pour récupérer les données.    \n",
    "\n",
    "Dans mon projet je me suis très vite rendu compte que la partie la plus importante, était le mapping, en effet le mapping est la partie qui permet de faire le lien entre les différents composants, et qui permet de faire passer les données d'un composant à un autre, et donc j'ai essayé de faire le mapping le plus simple possible, et le plus clair possible, en important tout le module avec la source et la destination, et qui contient une fonction **convert** qui prend en paramètre la source, et qui renvoie la destination, tout cela pour garder une lisibilité du code, et pour faciliter la maintenance du code.  \n",
    "\n",
    "Aussi dans ce projet j'ai pu travailler encore plus sur les websockets avec le framework SocketIO, et j'ai pu comprendre le fonctionnement de ce framework, et j'ai pu l'appliquer dans mon projet, et j'ai pu faire une application web qui permet de floutter les visages des personnes dans une image, et qui permet de faire le flouttage en temps réel, et qui permet de faire le flouttage à partir d'une caméra, ou d'un flux vidéo, et tout cela avec une authentification en JWT, et un système de gestion des utilisateurs.  \n",
    "\n",
    "# Difficultés rencontrées:  \n",
    "\n",
    "La plus grande difficultés que malheuresement je n'ai pas pu régler, est le système de dépendances de FastAPI, en effet ce dernier gère les dépendances entre routes et fonction avec l'objet **Depends**, au moment de l'appel de la fonction, or cette dépendance est gérée par FastAPI et est détécté au moment de la création de l'application, et vu la structure de mon code qui gère ces dépendances au niveau des méthodes d'instances de classe, il n'est pas possible de dépendre une méthode avec la méthode d'un attribut de la classe, car au moment de la définition de la méthode l'attribut en question est hors scope donc il fallais changeait toute la structure du code, par exemple passer à du code fonctionnel ou à des méthodes de classes, or il ne me restait pas suffisement de temps, donc j'ai proposé une solution de contournement, ou au lieu d'injecter la dépendance au moment de la création de l'application, je l'injecte au moment de l'appel de la fonction, et donc j'ai pu régler le problème, mais malheuresement je n'ai pas pu le régler de la manière la plus propre possible.  "
   ]
  },
  {
   "attachments": {},
   "cell_type": "markdown",
   "metadata": {},
   "source": [
    "# Rendu du projet:  \n",
    "\n",
    "Dans ce projet j'ai rendu un code fonctionnel, que l'on peut tester en mode swagger, en allant à la route **/docs**, sauf pour la partie websocket et pour cela il suffit de se connecter à la route et d'activer la caméra de la machine.  \n",
    "Pour le build et l'application de l'application, il y a un **docker-compose** qui permet de pull les images, et de build les images, et de lancer les containers, et pour cela il suffit de lancer la commande suivante:  \n",
    "\n",
    "```bash\n",
    "docker-compose up -d --build\n",
    "```\n",
    "Pour la partie bonus, j'ai déployé l'application sur un cluster Kubernetes, et pour cela il suffit de lancer la commande suivante:  \n",
    "\n",
    "```bash\n",
    "kubectl apply -f deploy.yml\n",
    "```\n",
    "Et pour accéder à l'application il suffit d'aller à l'adresse suivante:  \n",
    "\n",
    "```bash\n",
    "http://<ip>:<port>\n",
    "```\n",
    "Et pour accéder à l'application en mode swagger il suffit d'aller à l'adresse suivante:  \n",
    "\n",
    "```bash\n",
    "http://<ip>:<port>/docs\n",
    "```\n",
    "Et pour accéder à l'application en mode redoc il suffit d'aller à l'adresse suivante:  \n",
    "\n",
    "```bash\n",
    "http://<ip>:<port>/redoc\n",
    "```\n",
    "Et pour accéder à l'application en mode websocket il suffit d'aller à l'adresse suivante:  \n",
    "\n",
    "```bash\n",
    "http://<ip>:<port>\n",
    "```"
   ]
  },
  {
   "attachments": {},
   "cell_type": "markdown",
   "metadata": {},
   "source": [
    "# Remarques:  \n",
    "\n",
    "J'ai beaucoup apprécié votre cours, car c'est un sujet qui m'interesse beaucoup, mais je pense qu'ont paut avoir un cours beaucoup plus complet avec l'ajout de la partie-ci avec l'automatisation des builds des images dockers qui sont stockées sur un registry cela peut être considéré comme bonus, et aussi si possible être plus ouvert à l'idée du distanciel -c'était ma proposition dans le premier cours que je maintiens-.\n"
   ]
  }
 ],
 "metadata": {
  "authors": [
   {
    "name": "Amine Laabi"
   }
  ],
  "language_info": {
   "name": "python"
  },
  "orig_nbformat": 4,
  "title": "Architecture orientée service"
 },
 "nbformat": 4,
 "nbformat_minor": 2
}
