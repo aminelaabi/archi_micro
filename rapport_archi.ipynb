{
 "cells": [
  {
   "attachments": {},
   "cell_type": "markdown",
   "metadata": {},
   "source": [
    "# Question1:  \n",
    "\n"
   ]
  }
 ],
 "metadata": {
  "language_info": {
   "name": "python"
  },
  "authors": [
    {"name": "Amine Laabi"}
  ],
  "title": "Rapport projet micro-architecture",
  "orig_nbformat": 4
 },
 "nbformat": 4,
 "nbformat_minor": 2
}
