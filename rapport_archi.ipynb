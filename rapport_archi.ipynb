{
 "cells": [
  {
   "attachments": {},
   "cell_type": "markdown",
   "metadata": {},
   "source": [
    "# Présentation du projet:  \n",
    "\n",
    "Ce projet représente le partie backoffice d'une application web qui a pour but de floutter les visages des personnes dans une image, la communication avec ce back peut être faite par plusieurs moyens:  \n",
    "\n",
    "* Charger l'image directement sous format binaire\n",
    "* Charger l'image depuis un lien qui offre la possbilité de télécharger l'image (idéalement un bucket S3, dans mon cas le site gratuit [anonfile](https://anonfiles.com/))  \n",
    "* Directement depuis une caméra, ou un flux vidéo, via des websockets  \n",
    "\n",
    "Tous cela avec un système d'authentification en [JWT](https://jwt.io/), et un système de gestion des utilisateurs, pour accéder au endpoint de chaque service.  \n",
    "\n",
    "Le projet est écrit entièrement en [Python](https://www.python.org/) avec le framework [FastAPI](https://fastapi.tiangolo.com/), et le framework [SocketIO](https://socket.io/) pour les websockets.  \n",
    "Le choix du langage Python est dû à sa facilité de manipulation des images, et le choix de FastAPI est dû à sa rapidité et sa facilité de mise en place, et le choix de SocketIO est dû à sa facilité de mise en place et sa compatibilité avec FastAPI, aussi ces technologies sont des technologies que j'utilise au quotidien dans mon travail, (à l'exception des websockets), et donc il est plus pertinent de les utiliser pour ce projet, vue que je compte appliquer la clean architecture dans mes futurs projets.  "
   ]
  },
  {
   "attachments": {},
   "cell_type": "markdown",
   "metadata": {},
   "source": [
    "# Architecture:  \n",
    "\n",
    "Dans mon projet j'ai essayé au maximum d'appliquer la clean architechture qu'on peut schématiser comme suit:  \n",
    "\n",
    "```sequence\n",
    "Alice->Bob: Hello Bob, how are you?\n",
    "Note right of Bob: Bob thinks\n",
    "Bob-->Alice: I am good thanks!\n",
    "```"
   ]
  }
 ],
 "metadata": {
  "authors": [
   {
    "name": "Amine Laabi"
   }
  ],
  "language_info": {
   "name": "python"
  },
  "orig_nbformat": 4,
  "title": "Architecture orientée service"
 },
 "nbformat": 4,
 "nbformat_minor": 2
}
